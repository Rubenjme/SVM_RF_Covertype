{
 "cells": [
  {
   "cell_type": "markdown",
   "id": "5b3ecca1",
   "metadata": {},
   "source": [
    "# **Clasificación con máquinas de vectores de soporte y random forest**\n",
    "---"
   ]
  },
  {
   "cell_type": "markdown",
   "id": "bc2d4929",
   "metadata": {},
   "source": [
    "## **Objetivos**\n",
    "\n",
    "Mediante este proyecto se pretende crear modelos basados en máquinas de vector de soporte y random forest. Se busca comprender con un problema real las diferencias que existen a la hora de entrenar los diferentes modelos.\n",
    "\n",
    "- Comprender el tratamiento de datos que hay que realizar para los modelos de clasificación.\n",
    "- Entender y aplicar el algoritmo de Random Forest a un problema de clasificación.\n",
    "- Entender y aplicar el algoritmo de Support Vector Machine (SVM) a un problema de clasificación.\n",
    "- Evaluar y analizar los resultados de los clasificadores."
   ]
  },
  {
   "cell_type": "markdown",
   "id": "d527775b",
   "metadata": {},
   "source": [
    "## **Descripción del proyecto**\n",
    "\n",
    "El conjunto de datos con el que vamos a trabajar se encuentra en el siguiente enlace: https://archive.ics.uci.edu/dataset/31/covertype\n",
    "\n",
    "Este dataset ha sido generado para predecir el tipo de cubierta forestal únicamente a partir de variables cartográficas (sin datos de sensores remotos). El tipo de cubierta forestal real para una observación determinada (celda de 30 x 30 metros) se determinó a partir de los datos del Sistema de información de recursos (RIS) de la Región 2 del Servicio Forestal de EE. UU. (USFS). Las variables independientes se derivaron de datos obtenidos originalmente del Servicio Geológico de EE. UU. (USGS) y de datos del USFS. Los datos están en forma original (no escalados) y contienen columnas binarias (0 o 1) de datos para variables cualitativas independientes (áreas silvestres y tipos de suelo).\n",
    "Para ampliar información sobre el dataset y su origen, recomendamos leer la descripción completa del dataset en el enlace del repositorio. l.\n",
    "\n",
    "**El objetivo de la clasificación será detectar el tipo de suelo.**\n",
    "\n",
    "---"
   ]
  },
  {
   "cell_type": "markdown",
   "id": "c399e1d6",
   "metadata": {},
   "source": [
    "## **Análisis descriptivo de los datos**"
   ]
  },
  {
   "cell_type": "code",
   "execution_count": 5,
   "id": "b3afb960",
   "metadata": {},
   "outputs": [],
   "source": [
    "#!pip3 install -U ucimlrepo     # Instala/actualiza la librería 'ucimlrepo' para acceder a datasets del UCI Machine Learning Repository"
   ]
  },
  {
   "cell_type": "code",
   "execution_count": 6,
   "id": "ed8056a1",
   "metadata": {},
   "outputs": [],
   "source": [
    "import numpy as np\n",
    "import pandas as pd\n",
    "from matplotlib import pyplot as plt \n",
    "import seaborn as sns\n",
    "\n",
    "from ucimlrepo import fetch_ucirepo  # Se importa la función para descargar datasets del UCI Machine Learning Repository"
   ]
  },
  {
   "cell_type": "code",
   "execution_count": 8,
   "id": "9c732dd7",
   "metadata": {},
   "outputs": [
    {
     "name": "stdout",
     "output_type": "stream",
     "text": [
      "{'uci_id': 31, 'name': 'Covertype', 'repository_url': 'https://archive.ics.uci.edu/dataset/31/covertype', 'data_url': 'https://archive.ics.uci.edu/static/public/31/data.csv', 'abstract': 'Classification of pixels into 7 forest cover types based on attributes such as elevation, aspect, slope, hillshade, soil-type, and more.', 'area': 'Biology', 'tasks': ['Classification'], 'characteristics': ['Multivariate'], 'num_instances': 581012, 'num_features': 54, 'feature_types': ['Categorical', 'Integer'], 'demographics': [], 'target_col': ['Cover_Type'], 'index_col': None, 'has_missing_values': 'no', 'missing_values_symbol': None, 'year_of_dataset_creation': 1998, 'last_updated': 'Sat Mar 16 2024', 'dataset_doi': '10.24432/C50K5N', 'creators': ['Jock Blackard'], 'intro_paper': None, 'additional_info': {'summary': 'Predicting forest cover type from cartographic variables only (no remotely sensed data).  The actual forest cover type for a given observation (30 x 30 meter cell) was determined from US Forest Service (USFS) Region 2 Resource Information System (RIS) data.  Independent variables were derived from data originally obtained from US Geological Survey (USGS) and USFS data.  Data is in raw form (not scaled) and contains binary (0 or 1) columns of data for qualitative independent variables (wilderness areas and soil types).\\r\\n\\r\\nThis study area includes four wilderness areas located in the Roosevelt National Forest of northern Colorado.  These areas represent forests with minimal human-caused disturbances, so that existing forest cover types are more a result of ecological processes rather than forest management practices.\\r\\n\\r\\nSome background information for these four wilderness areas: Neota (area 2) probably has the highest mean elevational value of the 4 wilderness areas. Rawah (area 1) and Comanche Peak (area 3) would have a lower mean elevational value, while Cache la Poudre (area 4) would have the lowest mean elevational value. \\r\\n\\r\\nAs for primary major tree species in these areas, Neota would have spruce/fir (type 1), while Rawah and Comanche Peak would probably have lodgepole pine (type 2) as their primary species, followed by spruce/fir and aspen (type 5). Cache la Poudre would tend to have Ponderosa pine (type 3), Douglas-fir (type 6), and cottonwood/willow (type 4).  \\r\\n\\r\\nThe Rawah and Comanche Peak areas would tend to be more typical of the overall dataset than either the Neota or Cache la Poudre, due to their assortment of tree species and range of predictive variable values (elevation, etc.)  Cache la Poudre would probably  be more unique than the others, due to its relatively low  elevation range and species composition. ', 'purpose': None, 'funded_by': None, 'instances_represent': None, 'recommended_data_splits': None, 'sensitive_data': None, 'preprocessing_description': None, 'variable_info': 'Given is the attribute name, attribute type, the measurement unit and a brief description.  The forest cover type is the classification  problem.  The order of this listing corresponds to the order of numerals along the rows of the database.\\r\\n\\r\\nName / Data Type / Measurement / Description\\r\\n\\r\\nElevation / quantitative /meters / Elevation in meters\\r\\nAspect / quantitative / azimuth / Aspect in degrees azimuth\\r\\nSlope / quantitative / degrees / Slope in degrees\\r\\nHorizontal_Distance_To_Hydrology / quantitative / meters / Horz Dist to nearest surface water features\\r\\nVertical_Distance_To_Hydrology / quantitative / meters / Vert Dist to nearest surface water features\\r\\nHorizontal_Distance_To_Roadways / quantitative / meters / Horz Dist to nearest roadway\\r\\nHillshade_9am / quantitative / 0 to 255 index / Hillshade index at 9am, summer solstice\\r\\nHillshade_Noon / quantitative / 0 to 255 index / Hillshade index at noon, summer soltice\\r\\nHillshade_3pm / quantitative / 0 to 255 index / Hillshade index at 3pm, summer solstice\\r\\nHorizontal_Distance_To_Fire_Points / quantitative / meters / Horz Dist to nearest wildfire ignition points\\r\\nWilderness_Area (4 binary columns) / qualitative / 0 (absence) or 1 (presence) / Wilderness area designation\\r\\nSoil_Type (40 binary columns) / qualitative / 0 (absence) or 1 (presence) / Soil Type designation\\r\\nCover_Type (7 types) / integer / 1 to 7 / Forest Cover Type designation', 'citation': None}}\n"
     ]
    }
   ],
   "source": [
    "# En lugar de cargar el dataset desde local, lo descargaré de su repositorio.\n",
    "covertype = fetch_ucirepo(id=31) # Se descarga el dataset \"Covertype\" desde el repositorio de UCI (ID: 31)\n",
    "df = covertype.data.original     # Obtiene el dataframe original del dataset\n",
    "\n",
    "# Se separan las características (X) y las etiquetas de salida (Y)\n",
    "X = covertype.data.features      # Variables independientes, características\n",
    "Y = covertype.data.targets       # Variable dependiente, clase objetivo\n",
    "\n",
    "print(covertype.metadata)        # Muestro la información del dataset"
   ]
  }
 ],
 "metadata": {
  "kernelspec": {
   "display_name": "Python 3",
   "language": "python",
   "name": "python3"
  },
  "language_info": {
   "codemirror_mode": {
    "name": "ipython",
    "version": 3
   },
   "file_extension": ".py",
   "mimetype": "text/x-python",
   "name": "python",
   "nbconvert_exporter": "python",
   "pygments_lexer": "ipython3",
   "version": "3.11.9"
  }
 },
 "nbformat": 4,
 "nbformat_minor": 5
}
